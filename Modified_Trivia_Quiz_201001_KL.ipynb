{
  "nbformat": 4,
  "nbformat_minor": 0,
  "metadata": {
    "colab": {
      "name": "Modified Trivia Quiz 201001 KL.ipynb",
      "provenance": []
    },
    "kernelspec": {
      "name": "python3",
      "display_name": "Python 3"
    }
  },
  "cells": [
    {
      "cell_type": "markdown",
      "metadata": {
        "id": "T6hCRPi9PBXZ"
      },
      "source": [
        "In order to play, make sure you have uploaded the csv files ;)"
      ]
    },
    {
      "cell_type": "code",
      "metadata": {
        "id": "iASRUyowK-z9"
      },
      "source": [
        "import pandas as pd\n",
        "import random \n",
        "import csv\n",
        "\n",
        "with open(\"data/player_info.csv\", newline='') as f:\n",
        "    reader = csv.reader(f)\n",
        "    player_info = list(reader)\n",
        "\n",
        "def play_game():\n",
        "    question_number = 0\n",
        "    score = 0\n",
        "    \n",
        "    questions_list = [\"Which country gave the Statue of Liberty to the US?\",\"What is the real name of The Flash?\",\"Where is the world's quietest room located?\",\"What is Tony Stark's phone number on Thor's Hammer?\",\"The place with the longest name in the world has how many characters?\",\"What is the most popular name in the world?\",\"What is the densest planet in the Solar System?\"]\n",
        "    choices_list = [['1. Spain','2. France','3. Japan'],['1. Larry Allen','2. Harry Allen','3. Barry Allen'],['1. Singapore','2. India','3. USA'],['1. 212-970-4133','2. 212-971-4133','3. 212-972-4133'],['1. 85','2. 90','3. 98'],['1. John','2. Muhammad','3. Seo-Yeon'],['1. Earth','2. Jupiter','3. Mercury']]\n",
        "    correct_list = ['2','3','3','1','1','2','1']\n",
        "    \n",
        "    while question_number != 5:\n",
        "        question = random.choice(list(questions_list))\n",
        "        question_index = questions_list.index(question)\n",
        "        correct = correct_list[question_index]\n",
        "        print(question)\n",
        "        \n",
        "        for choices in choices_list[question_index]:\n",
        "            print(choices)\n",
        "        answer = input(\"Answer: \")\n",
        "        if answer == correct:\n",
        "            score += 2\n",
        "            print(\"\\nCorrect!\\n\")\n",
        "        else:\n",
        "            print(\"\\nWrong\\n\")\n",
        "            \n",
        "        questions_list.pop(question_index)\n",
        "        choices_list.pop(question_index)\n",
        "        correct_list.pop(question_index)\n",
        "        question_number += 1    \n",
        "    \n",
        "    if score >= 7:\n",
        "        print(\"\\nCongratulations! Your score is \" + str(score))\n",
        "    else:\n",
        "        print(\"\\nYour score is \" + str(score) + \". Better luck next time!\")\n",
        "   \n",
        "    player_info.append([name, score])\n",
        "    df=pd.DataFrame(player_info,columns=['Name','Score'])\n",
        "    df.to_csv(\"player_info.csv\", index = False, header = False)\n",
        "    print(\"\\nLAST 10 PLAYERS\")\n",
        "    print(df.tail(10).to_string(index = False))\n",
        "# End of play_game() function  \n",
        "\n",
        "\n",
        "# START\n",
        "name = input(\"Hi! What's your name? \")\n",
        "print(\"\\nHi, \" + name.title() + \"! TRIVIA TIME!\")\n",
        "\n",
        "choice = ''\n",
        "while choice != '0':\n",
        "    print(\"\\n--------------------------------\")\n",
        "    print(\"[1] Start!\")\n",
        "    print(\"[0] Quit\")\n",
        "    print(\"--------------------------------\")\n",
        "    choice  = input(\"\\nStart or Quit? (1 or 0) \")\n",
        "    if choice == '1':\n",
        "        print(\"\\nAlright! Here we go.\\n\")\n",
        "        play_game()\n",
        "    elif choice == '0':\n",
        "        print(\"\\nSee you later!\\n\")\n",
        "    else:\n",
        "        print(\"\\nSorry I don't understand. Please choose between 1 and 0.\")"
      ],
      "execution_count": null,
      "outputs": []
    },
    {
      "cell_type": "code",
      "metadata": {
        "id": "YvEhbuIlPenc"
      },
      "source": [
        ""
      ],
      "execution_count": null,
      "outputs": []
    }
  ]
}